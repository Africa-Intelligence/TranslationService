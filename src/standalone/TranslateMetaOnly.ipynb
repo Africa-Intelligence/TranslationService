{
  "nbformat": 4,
  "nbformat_minor": 0,
  "metadata": {
    "colab": {
      "provenance": []
    },
    "kernelspec": {
      "name": "python3",
      "display_name": "Python 3"
    },
    "language_info": {
      "name": "python"
    }
  },
  "cells": [
    {
      "cell_type": "markdown",
      "source": [
        "Install necessary libraries\n",
        "\n"
      ],
      "metadata": {
        "id": "DFKCTyDtfjiA"
      }
    },
    {
      "cell_type": "code",
      "execution_count": null,
      "metadata": {
        "id": "BTHJB2xZfPqn"
      },
      "outputs": [],
      "source": [
        "!pip install datasets --quiet\n",
        "!pip install pandas --quiet\n",
        "!pip install transformers --quiet"
      ]
    },
    {
      "cell_type": "code",
      "source": [
        "from datasets import load_dataset\n",
        "import pandas as pd\n",
        "from transformers import M2M100ForConditionalGeneration, M2M100Tokenizer"
      ],
      "metadata": {
        "id": "Ywb7VHkUfUiF"
      },
      "execution_count": null,
      "outputs": []
    },
    {
      "cell_type": "markdown",
      "source": [
        "Load the dataset"
      ],
      "metadata": {
        "id": "jrNoWT7Hfhs7"
      }
    },
    {
      "cell_type": "code",
      "source": [
        "dataset = load_dataset(\"tatsu-lab/alpaca\")"
      ],
      "metadata": {
        "id": "VqV-N-KKffMu"
      },
      "execution_count": null,
      "outputs": []
    },
    {
      "cell_type": "markdown",
      "source": [
        "Convert dataset to DataFrame"
      ],
      "metadata": {
        "id": "9ZMeJuALfnmC"
      }
    },
    {
      "cell_type": "code",
      "source": [
        "df = pd.DataFrame(dataset['train'])\n",
        "df_text = df['text']"
      ],
      "metadata": {
        "id": "7A8_TbiWfop5"
      },
      "execution_count": null,
      "outputs": []
    },
    {
      "cell_type": "markdown",
      "source": [
        "Prepare DataFrame for translations\n"
      ],
      "metadata": {
        "id": "fbrtAIyBftsE"
      }
    },
    {
      "cell_type": "code",
      "source": [
        "df = df.drop(columns=['text'])\n",
        "df['Tshivenda_instruction'] = ''\n",
        "df['Tshivenda_input'] = ''\n",
        "df['Tshivenda_output'] = ''\n",
        "df_text.head()"
      ],
      "metadata": {
        "colab": {
          "base_uri": "https://localhost:8080/"
        },
        "id": "HiaePQZpfvs4",
        "outputId": "b3e86334-79e1-4ea5-a606-a16c9b4a078f"
      },
      "execution_count": null,
      "outputs": [
        {
          "output_type": "execute_result",
          "data": {
            "text/plain": [
              "0    Below is an instruction that describes a task....\n",
              "1    Below is an instruction that describes a task....\n",
              "2    Below is an instruction that describes a task....\n",
              "3    Below is an instruction that describes a task....\n",
              "4    Below is an instruction that describes a task....\n",
              "Name: text, dtype: object"
            ]
          },
          "metadata": {},
          "execution_count": 32
        }
      ]
    },
    {
      "cell_type": "markdown",
      "source": [
        "Load the Hugging Face model and tokenizer"
      ],
      "metadata": {
        "id": "NKF7sqV5fyPA"
      }
    },
    {
      "cell_type": "code",
      "source": [
        "model_name = \"facebook/m2m100_418M\"\n",
        "tokenizer = M2M100Tokenizer.from_pretrained(model_name)\n",
        "model = M2M100ForConditionalGeneration.from_pretrained(model_name)"
      ],
      "metadata": {
        "id": "7WF9rXCdfzbq"
      },
      "execution_count": null,
      "outputs": []
    },
    {
      "cell_type": "markdown",
      "source": [
        "Define translation function using Hugging Face model"
      ],
      "metadata": {
        "id": "vyxvSuzxf7_W"
      }
    },
    {
      "cell_type": "code",
      "source": [
        "def translate_hf(input_text, source_lang=\"en\", target_lang=\"ur\"):\n",
        "    tokenizer.src_lang = source_lang\n",
        "    encoded_input = tokenizer(input_text, return_tensors=\"pt\")\n",
        "    generated_tokens = model.generate(\n",
        "        **encoded_input,\n",
        "        forced_bos_token_id=tokenizer.lang_code_to_id[target_lang]\n",
        "    )\n",
        "    translated_text = tokenizer.batch_decode(generated_tokens, skip_special_tokens=True)[0]\n",
        "    return translated_text"
      ],
      "metadata": {
        "id": "jpRDRSX0f2hN"
      },
      "execution_count": null,
      "outputs": []
    },
    {
      "cell_type": "markdown",
      "source": [
        "Calculate total characters in DataFrame"
      ],
      "metadata": {
        "id": "QaorOsGqgAFY"
      }
    },
    {
      "cell_type": "code",
      "source": [
        "def total_characters_in_dataframe(df):\n",
        "    total_characters = 0\n",
        "    for value in df.values.flatten():\n",
        "        total_characters += len(str(value))\n",
        "    return total_characters"
      ],
      "metadata": {
        "id": "UT2_mRi1f-vd"
      },
      "execution_count": null,
      "outputs": []
    },
    {
      "cell_type": "code",
      "source": [
        "characters = total_characters_in_dataframe(df)\n",
        "price = characters / 1000000 * 0 #free model (OS)\n",
        "print(f\"Total characters: {characters}\")\n",
        "print(f\"Total price ${price}\")"
      ],
      "metadata": {
        "colab": {
          "base_uri": "https://localhost:8080/"
        },
        "id": "i-2Vb2AogBcu",
        "outputId": "d130b5a3-47aa-44e5-d301-ca96c6576c3d"
      },
      "execution_count": null,
      "outputs": [
        {
          "output_type": "stream",
          "name": "stdout",
          "text": [
            "Total characters: 18358818\n",
            "Total price $0.0\n"
          ]
        }
      ]
    },
    {
      "cell_type": "markdown",
      "source": [
        "Translate each row in the DataFrame"
      ],
      "metadata": {
        "id": "SiRpcM27gFfK"
      }
    },
    {
      "cell_type": "code",
      "source": [
        "for i in range(len(df)):\n",
        "    instruction = df.at[i, 'instruction']\n",
        "    if instruction != '':\n",
        "        Tshivenda_instruction = translate_hf(instruction)\n",
        "        df.at[i, 'Tshivenda_instruction'] = Tshivenda_instruction\n",
        "\n",
        "    input_text = df.at[i, 'input']\n",
        "    if input_text != '':\n",
        "        Tshivenda_input = translate_hf(input_text)\n",
        "        df.at[i, 'Tshivenda_input'] = Tshivenda_input\n",
        "\n",
        "    output = df.at[i, 'output']\n",
        "    if output != '':\n",
        "        Tshivenda_output = translate_hf(output)\n",
        "        df.at[i, 'Tshivenda_output'] = Tshivenda_output\n",
        "\n",
        "    # For demonstration, limit to first 5 rows\n",
        "    if i >= 5:\n",
        "        break"
      ],
      "metadata": {
        "id": "H18vqoVBgDHg"
      },
      "execution_count": null,
      "outputs": []
    },
    {
      "cell_type": "markdown",
      "source": [
        "Display the DataFrame"
      ],
      "metadata": {
        "id": "nZO3yT52gNPa"
      }
    },
    {
      "cell_type": "code",
      "source": [
        "df.head()"
      ],
      "metadata": {
        "colab": {
          "base_uri": "https://localhost:8080/",
          "height": 712
        },
        "id": "XegiS37DxaZM",
        "outputId": "03e7fb7e-c630-4e6f-8021-eabb42c12a04"
      },
      "execution_count": null,
      "outputs": [
        {
          "output_type": "execute_result",
          "data": {
            "text/plain": [
              "                                         instruction input  \\\n",
              "0               Give three tips for staying healthy.         \n",
              "1                 What are the three primary colors?         \n",
              "2                 Describe the structure of an atom.         \n",
              "3                   How can we reduce air pollution?         \n",
              "4  Describe a time when you had to make a difficu...         \n",
              "\n",
              "                                              output  \\\n",
              "0  1.Eat a balanced diet and make sure to include...   \n",
              "1  The three primary colors are red, blue, and ye...   \n",
              "2  An atom is made up of a nucleus, which contain...   \n",
              "3  There are a number of ways to reduce air pollu...   \n",
              "4  I had to make a difficult decision when I was ...   \n",
              "\n",
              "                               Tshivenda_instruction Tshivenda_input  \\\n",
              "0                     صحت مند رہنے کے لئے تین تجاویز                   \n",
              "1                               تین اہم رنگ کیا ہیں؟                   \n",
              "2                     ایک اتم کی ساخت کی وضاحت کریں.                   \n",
              "3            فضائی آلودگی کو کیسے کم کیا جا سکتا ہے؟                   \n",
              "4  ایک وقت کی وضاحت کریں جب آپ کو ایک مشکل فیصلہ ...                   \n",
              "\n",
              "                                    Tshivenda_output  \n",
              "0  1.ایک متوازن غذا کھائیں اور اس بات کو یقینی بن...  \n",
              "1            تین بنیادی رنگیں سرخ، نیلے اور زرد ہیں.  \n",
              "2  ایک اتم ایک نوکری سے بنایا جاتا ہے، جس میں پرو...  \n",
              "3  فضائی آلودگی کو کم کرنے کے کئی طریقے ہیں، جیسے...  \n",
              "4  میں نے ایک تعمیراتی کمپنی میں ایک پروجیکٹ مینی...  "
            ],
            "text/html": [
              "\n",
              "  <div id=\"df-ac108775-2228-40e9-871a-9df7803bf628\" class=\"colab-df-container\">\n",
              "    <div>\n",
              "<style scoped>\n",
              "    .dataframe tbody tr th:only-of-type {\n",
              "        vertical-align: middle;\n",
              "    }\n",
              "\n",
              "    .dataframe tbody tr th {\n",
              "        vertical-align: top;\n",
              "    }\n",
              "\n",
              "    .dataframe thead th {\n",
              "        text-align: right;\n",
              "    }\n",
              "</style>\n",
              "<table border=\"1\" class=\"dataframe\">\n",
              "  <thead>\n",
              "    <tr style=\"text-align: right;\">\n",
              "      <th></th>\n",
              "      <th>instruction</th>\n",
              "      <th>input</th>\n",
              "      <th>output</th>\n",
              "      <th>Tshivenda_instruction</th>\n",
              "      <th>Tshivenda_input</th>\n",
              "      <th>Tshivenda_output</th>\n",
              "    </tr>\n",
              "  </thead>\n",
              "  <tbody>\n",
              "    <tr>\n",
              "      <th>0</th>\n",
              "      <td>Give three tips for staying healthy.</td>\n",
              "      <td></td>\n",
              "      <td>1.Eat a balanced diet and make sure to include...</td>\n",
              "      <td>صحت مند رہنے کے لئے تین تجاویز</td>\n",
              "      <td></td>\n",
              "      <td>1.ایک متوازن غذا کھائیں اور اس بات کو یقینی بن...</td>\n",
              "    </tr>\n",
              "    <tr>\n",
              "      <th>1</th>\n",
              "      <td>What are the three primary colors?</td>\n",
              "      <td></td>\n",
              "      <td>The three primary colors are red, blue, and ye...</td>\n",
              "      <td>تین اہم رنگ کیا ہیں؟</td>\n",
              "      <td></td>\n",
              "      <td>تین بنیادی رنگیں سرخ، نیلے اور زرد ہیں.</td>\n",
              "    </tr>\n",
              "    <tr>\n",
              "      <th>2</th>\n",
              "      <td>Describe the structure of an atom.</td>\n",
              "      <td></td>\n",
              "      <td>An atom is made up of a nucleus, which contain...</td>\n",
              "      <td>ایک اتم کی ساخت کی وضاحت کریں.</td>\n",
              "      <td></td>\n",
              "      <td>ایک اتم ایک نوکری سے بنایا جاتا ہے، جس میں پرو...</td>\n",
              "    </tr>\n",
              "    <tr>\n",
              "      <th>3</th>\n",
              "      <td>How can we reduce air pollution?</td>\n",
              "      <td></td>\n",
              "      <td>There are a number of ways to reduce air pollu...</td>\n",
              "      <td>فضائی آلودگی کو کیسے کم کیا جا سکتا ہے؟</td>\n",
              "      <td></td>\n",
              "      <td>فضائی آلودگی کو کم کرنے کے کئی طریقے ہیں، جیسے...</td>\n",
              "    </tr>\n",
              "    <tr>\n",
              "      <th>4</th>\n",
              "      <td>Describe a time when you had to make a difficu...</td>\n",
              "      <td></td>\n",
              "      <td>I had to make a difficult decision when I was ...</td>\n",
              "      <td>ایک وقت کی وضاحت کریں جب آپ کو ایک مشکل فیصلہ ...</td>\n",
              "      <td></td>\n",
              "      <td>میں نے ایک تعمیراتی کمپنی میں ایک پروجیکٹ مینی...</td>\n",
              "    </tr>\n",
              "  </tbody>\n",
              "</table>\n",
              "</div>\n",
              "    <div class=\"colab-df-buttons\">\n",
              "\n",
              "  <div class=\"colab-df-container\">\n",
              "    <button class=\"colab-df-convert\" onclick=\"convertToInteractive('df-ac108775-2228-40e9-871a-9df7803bf628')\"\n",
              "            title=\"Convert this dataframe to an interactive table.\"\n",
              "            style=\"display:none;\">\n",
              "\n",
              "  <svg xmlns=\"http://www.w3.org/2000/svg\" height=\"24px\" viewBox=\"0 -960 960 960\">\n",
              "    <path d=\"M120-120v-720h720v720H120Zm60-500h600v-160H180v160Zm220 220h160v-160H400v160Zm0 220h160v-160H400v160ZM180-400h160v-160H180v160Zm440 0h160v-160H620v160ZM180-180h160v-160H180v160Zm440 0h160v-160H620v160Z\"/>\n",
              "  </svg>\n",
              "    </button>\n",
              "\n",
              "  <style>\n",
              "    .colab-df-container {\n",
              "      display:flex;\n",
              "      gap: 12px;\n",
              "    }\n",
              "\n",
              "    .colab-df-convert {\n",
              "      background-color: #E8F0FE;\n",
              "      border: none;\n",
              "      border-radius: 50%;\n",
              "      cursor: pointer;\n",
              "      display: none;\n",
              "      fill: #1967D2;\n",
              "      height: 32px;\n",
              "      padding: 0 0 0 0;\n",
              "      width: 32px;\n",
              "    }\n",
              "\n",
              "    .colab-df-convert:hover {\n",
              "      background-color: #E2EBFA;\n",
              "      box-shadow: 0px 1px 2px rgba(60, 64, 67, 0.3), 0px 1px 3px 1px rgba(60, 64, 67, 0.15);\n",
              "      fill: #174EA6;\n",
              "    }\n",
              "\n",
              "    .colab-df-buttons div {\n",
              "      margin-bottom: 4px;\n",
              "    }\n",
              "\n",
              "    [theme=dark] .colab-df-convert {\n",
              "      background-color: #3B4455;\n",
              "      fill: #D2E3FC;\n",
              "    }\n",
              "\n",
              "    [theme=dark] .colab-df-convert:hover {\n",
              "      background-color: #434B5C;\n",
              "      box-shadow: 0px 1px 3px 1px rgba(0, 0, 0, 0.15);\n",
              "      filter: drop-shadow(0px 1px 2px rgba(0, 0, 0, 0.3));\n",
              "      fill: #FFFFFF;\n",
              "    }\n",
              "  </style>\n",
              "\n",
              "    <script>\n",
              "      const buttonEl =\n",
              "        document.querySelector('#df-ac108775-2228-40e9-871a-9df7803bf628 button.colab-df-convert');\n",
              "      buttonEl.style.display =\n",
              "        google.colab.kernel.accessAllowed ? 'block' : 'none';\n",
              "\n",
              "      async function convertToInteractive(key) {\n",
              "        const element = document.querySelector('#df-ac108775-2228-40e9-871a-9df7803bf628');\n",
              "        const dataTable =\n",
              "          await google.colab.kernel.invokeFunction('convertToInteractive',\n",
              "                                                    [key], {});\n",
              "        if (!dataTable) return;\n",
              "\n",
              "        const docLinkHtml = 'Like what you see? Visit the ' +\n",
              "          '<a target=\"_blank\" href=https://colab.research.google.com/notebooks/data_table.ipynb>data table notebook</a>'\n",
              "          + ' to learn more about interactive tables.';\n",
              "        element.innerHTML = '';\n",
              "        dataTable['output_type'] = 'display_data';\n",
              "        await google.colab.output.renderOutput(dataTable, element);\n",
              "        const docLink = document.createElement('div');\n",
              "        docLink.innerHTML = docLinkHtml;\n",
              "        element.appendChild(docLink);\n",
              "      }\n",
              "    </script>\n",
              "  </div>\n",
              "\n",
              "\n",
              "<div id=\"df-249c9d47-dade-4d48-a407-7d56492b0ee3\">\n",
              "  <button class=\"colab-df-quickchart\" onclick=\"quickchart('df-249c9d47-dade-4d48-a407-7d56492b0ee3')\"\n",
              "            title=\"Suggest charts\"\n",
              "            style=\"display:none;\">\n",
              "\n",
              "<svg xmlns=\"http://www.w3.org/2000/svg\" height=\"24px\"viewBox=\"0 0 24 24\"\n",
              "     width=\"24px\">\n",
              "    <g>\n",
              "        <path d=\"M19 3H5c-1.1 0-2 .9-2 2v14c0 1.1.9 2 2 2h14c1.1 0 2-.9 2-2V5c0-1.1-.9-2-2-2zM9 17H7v-7h2v7zm4 0h-2V7h2v10zm4 0h-2v-4h2v4z\"/>\n",
              "    </g>\n",
              "</svg>\n",
              "  </button>\n",
              "\n",
              "<style>\n",
              "  .colab-df-quickchart {\n",
              "      --bg-color: #E8F0FE;\n",
              "      --fill-color: #1967D2;\n",
              "      --hover-bg-color: #E2EBFA;\n",
              "      --hover-fill-color: #174EA6;\n",
              "      --disabled-fill-color: #AAA;\n",
              "      --disabled-bg-color: #DDD;\n",
              "  }\n",
              "\n",
              "  [theme=dark] .colab-df-quickchart {\n",
              "      --bg-color: #3B4455;\n",
              "      --fill-color: #D2E3FC;\n",
              "      --hover-bg-color: #434B5C;\n",
              "      --hover-fill-color: #FFFFFF;\n",
              "      --disabled-bg-color: #3B4455;\n",
              "      --disabled-fill-color: #666;\n",
              "  }\n",
              "\n",
              "  .colab-df-quickchart {\n",
              "    background-color: var(--bg-color);\n",
              "    border: none;\n",
              "    border-radius: 50%;\n",
              "    cursor: pointer;\n",
              "    display: none;\n",
              "    fill: var(--fill-color);\n",
              "    height: 32px;\n",
              "    padding: 0;\n",
              "    width: 32px;\n",
              "  }\n",
              "\n",
              "  .colab-df-quickchart:hover {\n",
              "    background-color: var(--hover-bg-color);\n",
              "    box-shadow: 0 1px 2px rgba(60, 64, 67, 0.3), 0 1px 3px 1px rgba(60, 64, 67, 0.15);\n",
              "    fill: var(--button-hover-fill-color);\n",
              "  }\n",
              "\n",
              "  .colab-df-quickchart-complete:disabled,\n",
              "  .colab-df-quickchart-complete:disabled:hover {\n",
              "    background-color: var(--disabled-bg-color);\n",
              "    fill: var(--disabled-fill-color);\n",
              "    box-shadow: none;\n",
              "  }\n",
              "\n",
              "  .colab-df-spinner {\n",
              "    border: 2px solid var(--fill-color);\n",
              "    border-color: transparent;\n",
              "    border-bottom-color: var(--fill-color);\n",
              "    animation:\n",
              "      spin 1s steps(1) infinite;\n",
              "  }\n",
              "\n",
              "  @keyframes spin {\n",
              "    0% {\n",
              "      border-color: transparent;\n",
              "      border-bottom-color: var(--fill-color);\n",
              "      border-left-color: var(--fill-color);\n",
              "    }\n",
              "    20% {\n",
              "      border-color: transparent;\n",
              "      border-left-color: var(--fill-color);\n",
              "      border-top-color: var(--fill-color);\n",
              "    }\n",
              "    30% {\n",
              "      border-color: transparent;\n",
              "      border-left-color: var(--fill-color);\n",
              "      border-top-color: var(--fill-color);\n",
              "      border-right-color: var(--fill-color);\n",
              "    }\n",
              "    40% {\n",
              "      border-color: transparent;\n",
              "      border-right-color: var(--fill-color);\n",
              "      border-top-color: var(--fill-color);\n",
              "    }\n",
              "    60% {\n",
              "      border-color: transparent;\n",
              "      border-right-color: var(--fill-color);\n",
              "    }\n",
              "    80% {\n",
              "      border-color: transparent;\n",
              "      border-right-color: var(--fill-color);\n",
              "      border-bottom-color: var(--fill-color);\n",
              "    }\n",
              "    90% {\n",
              "      border-color: transparent;\n",
              "      border-bottom-color: var(--fill-color);\n",
              "    }\n",
              "  }\n",
              "</style>\n",
              "\n",
              "  <script>\n",
              "    async function quickchart(key) {\n",
              "      const quickchartButtonEl =\n",
              "        document.querySelector('#' + key + ' button');\n",
              "      quickchartButtonEl.disabled = true;  // To prevent multiple clicks.\n",
              "      quickchartButtonEl.classList.add('colab-df-spinner');\n",
              "      try {\n",
              "        const charts = await google.colab.kernel.invokeFunction(\n",
              "            'suggestCharts', [key], {});\n",
              "      } catch (error) {\n",
              "        console.error('Error during call to suggestCharts:', error);\n",
              "      }\n",
              "      quickchartButtonEl.classList.remove('colab-df-spinner');\n",
              "      quickchartButtonEl.classList.add('colab-df-quickchart-complete');\n",
              "    }\n",
              "    (() => {\n",
              "      let quickchartButtonEl =\n",
              "        document.querySelector('#df-249c9d47-dade-4d48-a407-7d56492b0ee3 button');\n",
              "      quickchartButtonEl.style.display =\n",
              "        google.colab.kernel.accessAllowed ? 'block' : 'none';\n",
              "    })();\n",
              "  </script>\n",
              "</div>\n",
              "\n",
              "    </div>\n",
              "  </div>\n"
            ],
            "application/vnd.google.colaboratory.intrinsic+json": {
              "type": "dataframe",
              "variable_name": "df",
              "summary": "{\n  \"name\": \"df\",\n  \"rows\": 52002,\n  \"fields\": [\n    {\n      \"column\": \"instruction\",\n      \"properties\": {\n        \"dtype\": \"string\",\n        \"num_unique_values\": 52002,\n        \"samples\": [\n          \"Describe the character of the protagonist in the given TV show.\",\n          \"Construct a poem that describes the beauty of a sunset.\",\n          \"Describe the effects of exponential growth.\"\n        ],\n        \"semantic_type\": \"\",\n        \"description\": \"\"\n      }\n    },\n    {\n      \"column\": \"input\",\n      \"properties\": {\n        \"dtype\": \"category\",\n        \"num_unique_values\": 19188,\n        \"samples\": [\n          \"Step 1: Choose a candidate\\nStep 2: Schedule an interview\\nStep 3: Conduct the interview\\nStep 4: Evaluate the candidate\\nStep 5: Select the candidate\\nStep 6: Notify the candidate\",\n          \"Problem: Traffic congestion in urban areas.\",\n          \"Why is the sky blue?\"\n        ],\n        \"semantic_type\": \"\",\n        \"description\": \"\"\n      }\n    },\n    {\n      \"column\": \"output\",\n      \"properties\": {\n        \"dtype\": \"string\",\n        \"num_unique_values\": 50842,\n        \"samples\": [\n          \"An appropriate response to this comment could be \\\"Do you want to do something else?\\\".\",\n          \"Five major climate regions are tropical, dry, temperate, continental, and polar.\",\n          \"This dream could be classified as a nightmare. In nightmares, the dreamer is often in a situation that is filled with anxiety, fear, and feelings of helplessness. It can be very difficult to control the situation or find a way to escape. In this dream, the conversations seem to be going wrong and the dreamer cannot find a way to respond correctly. This can increase the sense of helplessness and lead to a nightmare.\"\n        ],\n        \"semantic_type\": \"\",\n        \"description\": \"\"\n      }\n    },\n    {\n      \"column\": \"Tshivenda_instruction\",\n      \"properties\": {\n        \"dtype\": \"category\",\n        \"num_unique_values\": 7,\n        \"samples\": [\n          \"\\u0635\\u062d\\u062a \\u0645\\u0646\\u062f \\u0631\\u06c1\\u0646\\u06d2 \\u06a9\\u06d2 \\u0644\\u0626\\u06d2 \\u062a\\u06cc\\u0646 \\u062a\\u062c\\u0627\\u0648\\u06cc\\u0632\",\n          \"\\u062a\\u06cc\\u0646 \\u0627\\u06c1\\u0645 \\u0631\\u0646\\u06af \\u06a9\\u06cc\\u0627 \\u06c1\\u06cc\\u06ba\\u061f\",\n          \"\\u0639\\u062c\\u06cc\\u0628 \\u0627\\u06cc\\u06a9 \\u06a9\\u0648 \\u0646\\u06a9\\u0627\\u0644\\u0646\\u06d2 \\u06a9\\u06d2 \\u0644\\u0626\\u06d2.\"\n        ],\n        \"semantic_type\": \"\",\n        \"description\": \"\"\n      }\n    },\n    {\n      \"column\": \"Tshivenda_input\",\n      \"properties\": {\n        \"dtype\": \"category\",\n        \"num_unique_values\": 2,\n        \"samples\": [\n          \"\\u0679\\u0648\\u06cc\\u0679\\u0631\\u060c \\u0627\\u0646\\u0633\\u0679\\u0627\\u06af\\u0631\\u0627\\u0645\\u060c \\u0679\\u06cc\\u0644\\u06cc\\u06af\\u0631\\u0627\\u0645\",\n          \"\"\n        ],\n        \"semantic_type\": \"\",\n        \"description\": \"\"\n      }\n    },\n    {\n      \"column\": \"Tshivenda_output\",\n      \"properties\": {\n        \"dtype\": \"category\",\n        \"num_unique_values\": 7,\n        \"samples\": [\n          \"1.\\u0627\\u06cc\\u06a9 \\u0645\\u062a\\u0648\\u0627\\u0632\\u0646 \\u063a\\u0630\\u0627 \\u06a9\\u06be\\u0627\\u0626\\u06cc\\u06ba \\u0627\\u0648\\u0631 \\u0627\\u0633 \\u0628\\u0627\\u062a \\u06a9\\u0648 \\u06cc\\u0642\\u06cc\\u0646\\u06cc \\u0628\\u0646\\u0627\\u0626\\u06cc\\u06ba \\u06a9\\u06c1 \\u0627\\u0633 \\u0645\\u06cc\\u06ba \\u0628\\u06c1\\u062a \\u0633\\u06d2 \\u067e\\u06be\\u0644 \\u0627\\u0648\\u0631 \\u0633\\u0628\\u0632\\u06cc\\u0648\\u06ba \\u0634\\u0627\\u0645\\u0644 \\u06c1\\u06cc\\u06ba. 2.\\u0627\\u06cc\\u06a9 \\u0628\\u0627\\u0631 \\u0648\\u0631\\u0632\\u0634 \\u06a9\\u0631\\u06cc\\u06ba \\u062c\\u0633 \\u0645\\u06cc\\u06ba \\u0622\\u067e \\u06a9\\u06d2 \\u062c\\u0633\\u0645 \\u06a9\\u0648 \\u0641\\u0639\\u0627\\u0644 \\u0627\\u0648\\u0631 \\u0645\\u0636\\u0628\\u0648\\u0637 \\u0631\\u06a9\\u06be\\u0646\\u06d2 \\u06a9\\u06d2 \\u0644\\u0626\\u06d2. 3.\\u06a9\\u0627\\u0641\\u06cc \\u0646\\u06cc\\u0646\\u062f \\u062d\\u0627\\u0635\\u0644 \\u06a9\\u0631\\u06cc\\u06ba \\u0627\\u0648\\u0631 \\u0627\\u06cc\\u06a9 \\u0645\\u0633\\u062a\\u062d\\u06a9\\u0645 \\u0646\\u06cc\\u0646\\u062f \\u06a9\\u06d2 \\u067e\\u0631\\u0648\\u06af\\u0631\\u0627\\u0645 \\u06a9\\u0648 \\u0628\\u0631\\u0642\\u0631\\u0627\\u0631 \\u0631\\u06a9\\u06be\\u06cc\\u06ba.\",\n          \"\\u062a\\u06cc\\u0646 \\u0628\\u0646\\u06cc\\u0627\\u062f\\u06cc \\u0631\\u0646\\u06af\\u06cc\\u06ba \\u0633\\u0631\\u062e\\u060c \\u0646\\u06cc\\u0644\\u06d2 \\u0627\\u0648\\u0631 \\u0632\\u0631\\u062f \\u06c1\\u06cc\\u06ba.\"\n        ],\n        \"semantic_type\": \"\",\n        \"description\": \"\"\n      }\n    }\n  ]\n}"
            }
          },
          "metadata": {},
          "execution_count": 166
        }
      ]
    },
    {
      "cell_type": "markdown",
      "source": [
        "Save DataFrame to a CSV file"
      ],
      "metadata": {
        "id": "r5LH1-Wjg5QP"
      }
    },
    {
      "cell_type": "code",
      "source": [
        "df.to_csv('Urdu.csv', index=False)"
      ],
      "metadata": {
        "id": "4Df7CjMJg2L7"
      },
      "execution_count": null,
      "outputs": []
    }
  ]
}